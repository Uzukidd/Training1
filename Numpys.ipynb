{
 "cells": [
  {
   "cell_type": "code",
   "execution_count": null,
   "metadata": {},
   "outputs": [],
   "source": [
    "import numpy as np"
   ]
  },
  {
   "cell_type": "markdown",
   "metadata": {},
   "source": [
    "Create a null vector of size 10"
   ]
  },
  {
   "cell_type": "code",
   "execution_count": 14,
   "metadata": {},
   "outputs": [
    {
     "name": "stdout",
     "output_type": "stream",
     "text": [
      "[0. 0. 0. 0. 0. 0. 0. 0. 0. 0.]\n"
     ]
    }
   ],
   "source": [
    "vector = np.zeros(shape = (10))\n",
    "\n",
    "print(vector)"
   ]
  },
  {
   "cell_type": "markdown",
   "metadata": {},
   "source": [
    "Create a null vector of size 10 but the fifth value which is 1 "
   ]
  },
  {
   "cell_type": "code",
   "execution_count": 15,
   "metadata": {},
   "outputs": [
    {
     "name": "stdout",
     "output_type": "stream",
     "text": [
      "[0. 0. 0. 0. 1. 0. 0. 0. 0. 0.]\n"
     ]
    }
   ],
   "source": [
    "vector1 = np.zeros(shape = (10))\n",
    "\n",
    "vector1[4] = 1\n",
    "\n",
    "print(vector1)"
   ]
  },
  {
   "cell_type": "markdown",
   "metadata": {},
   "source": [
    "Create a vector with values ranging from 10 to 49"
   ]
  },
  {
   "cell_type": "code",
   "execution_count": 16,
   "metadata": {},
   "outputs": [
    {
     "name": "stdout",
     "output_type": "stream",
     "text": [
      "[10 11 12 13 14 15 16 17 18 19 20 21 22 23 24 25 26 27 28 29 30 31 32 33\n",
      " 34 35 36 37 38 39 40 41 42 43 44 45 46 47 48 49]\n"
     ]
    }
   ],
   "source": [
    "vector2 = np.arange(10, 50)\n",
    "\n",
    "print(vector2)"
   ]
  },
  {
   "cell_type": "markdown",
   "metadata": {},
   "source": [
    "Create a 3x3 matrix with values ranging from 0 to 8 "
   ]
  },
  {
   "cell_type": "code",
   "execution_count": 40,
   "metadata": {},
   "outputs": [
    {
     "name": "stdout",
     "output_type": "stream",
     "text": [
      "[[0 1 2]\n",
      " [3 4 5]\n",
      " [6 7 8]]\n"
     ]
    }
   ],
   "source": [
    "matrix1 = np.arange(0, 9).reshape(3, 3)\n",
    "\n",
    "print(matrix1)"
   ]
  },
  {
   "cell_type": "markdown",
   "metadata": {},
   "source": [
    "Create a 10x10 array with random values and find the minimum and maximum values"
   ]
  },
  {
   "cell_type": "code",
   "execution_count": 43,
   "metadata": {},
   "outputs": [
    {
     "name": "stdout",
     "output_type": "stream",
     "text": [
      "[[0.59156884 0.15044502 0.92837739 0.66260384 0.09705434 0.11354892\n",
      "  0.2256185  0.33181508 0.03164479 0.8561811 ]\n",
      " [0.0868409  0.6998668  0.53499797 0.33972664 0.1765345  0.09548452\n",
      "  0.31089066 0.49551203 0.26280532 0.62639992]\n",
      " [0.62680551 0.20033045 0.05324362 0.74694586 0.84250028 0.1397728\n",
      "  0.82957505 0.61819729 0.65435723 0.22753985]\n",
      " [0.81087526 0.24891655 0.9215065  0.78352337 0.76740867 0.63182164\n",
      "  0.06859192 0.67927697 0.06904585 0.67240178]\n",
      " [0.27450715 0.07399487 0.03213347 0.60900956 0.40424359 0.5704169\n",
      "  0.92439585 0.85389459 0.42403333 0.06788905]\n",
      " [0.08359398 0.42301674 0.27862608 0.59647649 0.67844218 0.69587947\n",
      "  0.6988675  0.10497251 0.94139517 0.98754273]\n",
      " [0.86741399 0.24313099 0.42854416 0.39886779 0.82140387 0.00569947\n",
      "  0.33029314 0.36020808 0.63708197 0.81320869]\n",
      " [0.34397483 0.72673047 0.88215119 0.60863795 0.22794997 0.1510678\n",
      "  0.20344721 0.17728498 0.20382715 0.2768878 ]\n",
      " [0.23192092 0.9754402  0.25669355 0.28099979 0.68204364 0.56373263\n",
      "  0.13926871 0.80753531 0.89039875 0.019281  ]\n",
      " [0.83731916 0.88028295 0.37201014 0.51371908 0.90966784 0.32296162\n",
      "  0.40254126 0.98896771 0.78799742 0.89481584]]\n",
      "0.9889677077625776\n",
      "0.005699466978924095\n"
     ]
    }
   ],
   "source": [
    "matrix2 = np.random.rand(10, 10)\n",
    "\n",
    "print(matrix2)\n",
    "\n",
    "print(matrix2.max())\n",
    "\n",
    "print(matrix2.min())"
   ]
  },
  {
   "cell_type": "markdown",
   "metadata": {},
   "source": [
    "Create a 2d array with 1 on the border and 0 inside "
   ]
  },
  {
   "cell_type": "code",
   "execution_count": 36,
   "metadata": {},
   "outputs": [
    {
     "name": "stdout",
     "output_type": "stream",
     "text": [
      "[[1. 1. 1. 1. 1. 1. 1. 1. 1. 1.]\n",
      " [1. 0. 0. 0. 0. 0. 0. 0. 0. 1.]\n",
      " [1. 0. 0. 0. 0. 0. 0. 0. 0. 1.]\n",
      " [1. 0. 0. 0. 0. 0. 0. 0. 0. 1.]\n",
      " [1. 0. 0. 0. 0. 0. 0. 0. 0. 1.]\n",
      " [1. 0. 0. 0. 0. 0. 0. 0. 0. 1.]\n",
      " [1. 0. 0. 0. 0. 0. 0. 0. 0. 1.]\n",
      " [1. 0. 0. 0. 0. 0. 0. 0. 0. 1.]\n",
      " [1. 0. 0. 0. 0. 0. 0. 0. 0. 1.]\n",
      " [1. 1. 1. 1. 1. 1. 1. 1. 1. 1.]]\n"
     ]
    }
   ],
   "source": [
    "matrix3 = np.zeros(shape = (10, 10))\n",
    "\n",
    "matrix3[0::matrix3.shape[1] - 1, :] = matrix3[:, 0::matrix3.shape[0] - 1] = 1\n",
    "\n",
    "print(matrix3)"
   ]
  },
  {
   "cell_type": "markdown",
   "metadata": {},
   "source": [
    "Multiply a 5x3 matrix by a 3x2 matrix (real matrix product) "
   ]
  },
  {
   "cell_type": "code",
   "execution_count": 57,
   "metadata": {},
   "outputs": [
    {
     "name": "stdout",
     "output_type": "stream",
     "text": [
      "[[1.14565035 1.04014755]\n",
      " [0.45006374 0.28882291]\n",
      " [0.35389803 0.22177351]\n",
      " [0.88458688 1.15581866]\n",
      " [1.46265445 1.26368444]]\n"
     ]
    }
   ],
   "source": [
    "matrix4 = np.random.rand(5, 3)\n",
    "\n",
    "matrix5 = np.random.rand(3, 2)\n",
    "\n",
    "print(np.dot(matrix4, matrix5))\n"
   ]
  },
  {
   "cell_type": "code",
   "execution_count": null,
   "metadata": {},
   "outputs": [],
   "source": []
  }
 ],
 "metadata": {
  "kernelspec": {
   "display_name": "Python 3",
   "language": "python",
   "name": "python3"
  },
  "language_info": {
   "codemirror_mode": {
    "name": "ipython",
    "version": 3
   },
   "file_extension": ".py",
   "mimetype": "text/x-python",
   "name": "python",
   "nbconvert_exporter": "python",
   "pygments_lexer": "ipython3",
   "version": "3.7.6"
  }
 },
 "nbformat": 4,
 "nbformat_minor": 4
}
